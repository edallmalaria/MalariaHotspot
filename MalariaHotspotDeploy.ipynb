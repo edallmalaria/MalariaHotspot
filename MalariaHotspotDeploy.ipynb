{
  "nbformat": 4,
  "nbformat_minor": 0,
  "metadata": {
    "colab": {
      "provenance": [],
      "include_colab_link": true
    },
    "kernelspec": {
      "name": "python3",
      "display_name": "Python 3"
    },
    "language_info": {
      "name": "python"
    }
  },
  "cells": [
    {
      "cell_type": "markdown",
      "metadata": {
        "id": "view-in-github",
        "colab_type": "text"
      },
      "source": [
        "<a href=\"https://colab.research.google.com/github/edallmalaria/MalariaHotspot/blob/main/MalariaHotspotDeploy.ipynb\" target=\"_parent\"><img src=\"https://colab.research.google.com/assets/colab-badge.svg\" alt=\"Open In Colab\"/></a>"
      ]
    },
    {
      "cell_type": "code",
      "source": [
        "!pip install streamlit"
      ],
      "metadata": {
        "colab": {
          "base_uri": "https://localhost:8080/"
        },
        "id": "Tb4zksNTaoma",
        "outputId": "507a74b3-e564-4b7d-f65d-dcd7c1dc1e37"
      },
      "execution_count": null,
      "outputs": [
        {
          "output_type": "stream",
          "name": "stdout",
          "text": [
            "Requirement already satisfied: streamlit in /usr/local/lib/python3.10/dist-packages (1.37.0)\n",
            "Requirement already satisfied: altair<6,>=4.0 in /usr/local/lib/python3.10/dist-packages (from streamlit) (4.2.2)\n",
            "Requirement already satisfied: blinker<2,>=1.0.0 in /usr/lib/python3/dist-packages (from streamlit) (1.4)\n",
            "Requirement already satisfied: cachetools<6,>=4.0 in /usr/local/lib/python3.10/dist-packages (from streamlit) (5.4.0)\n",
            "Requirement already satisfied: click<9,>=7.0 in /usr/local/lib/python3.10/dist-packages (from streamlit) (8.1.7)\n",
            "Requirement already satisfied: numpy<3,>=1.20 in /usr/local/lib/python3.10/dist-packages (from streamlit) (1.25.2)\n",
            "Requirement already satisfied: packaging<25,>=20 in /usr/local/lib/python3.10/dist-packages (from streamlit) (24.1)\n",
            "Requirement already satisfied: pandas<3,>=1.3.0 in /usr/local/lib/python3.10/dist-packages (from streamlit) (2.0.3)\n",
            "Requirement already satisfied: pillow<11,>=7.1.0 in /usr/local/lib/python3.10/dist-packages (from streamlit) (9.4.0)\n",
            "Requirement already satisfied: protobuf<6,>=3.20 in /usr/local/lib/python3.10/dist-packages (from streamlit) (3.20.3)\n",
            "Requirement already satisfied: pyarrow>=7.0 in /usr/local/lib/python3.10/dist-packages (from streamlit) (14.0.2)\n",
            "Requirement already satisfied: requests<3,>=2.27 in /usr/local/lib/python3.10/dist-packages (from streamlit) (2.31.0)\n",
            "Requirement already satisfied: rich<14,>=10.14.0 in /usr/local/lib/python3.10/dist-packages (from streamlit) (13.7.1)\n",
            "Requirement already satisfied: tenacity<9,>=8.1.0 in /usr/local/lib/python3.10/dist-packages (from streamlit) (8.5.0)\n",
            "Requirement already satisfied: toml<2,>=0.10.1 in /usr/local/lib/python3.10/dist-packages (from streamlit) (0.10.2)\n",
            "Requirement already satisfied: typing-extensions<5,>=4.3.0 in /usr/local/lib/python3.10/dist-packages (from streamlit) (4.12.2)\n",
            "Requirement already satisfied: gitpython!=3.1.19,<4,>=3.0.7 in /usr/local/lib/python3.10/dist-packages (from streamlit) (3.1.43)\n",
            "Requirement already satisfied: pydeck<1,>=0.8.0b4 in /usr/local/lib/python3.10/dist-packages (from streamlit) (0.9.1)\n",
            "Requirement already satisfied: tornado<7,>=6.0.3 in /usr/local/lib/python3.10/dist-packages (from streamlit) (6.3.3)\n",
            "Requirement already satisfied: watchdog<5,>=2.1.5 in /usr/local/lib/python3.10/dist-packages (from streamlit) (4.0.1)\n",
            "Requirement already satisfied: entrypoints in /usr/local/lib/python3.10/dist-packages (from altair<6,>=4.0->streamlit) (0.4)\n",
            "Requirement already satisfied: jinja2 in /usr/local/lib/python3.10/dist-packages (from altair<6,>=4.0->streamlit) (3.1.4)\n",
            "Requirement already satisfied: jsonschema>=3.0 in /usr/local/lib/python3.10/dist-packages (from altair<6,>=4.0->streamlit) (4.23.0)\n",
            "Requirement already satisfied: toolz in /usr/local/lib/python3.10/dist-packages (from altair<6,>=4.0->streamlit) (0.12.1)\n",
            "Requirement already satisfied: gitdb<5,>=4.0.1 in /usr/local/lib/python3.10/dist-packages (from gitpython!=3.1.19,<4,>=3.0.7->streamlit) (4.0.11)\n",
            "Requirement already satisfied: python-dateutil>=2.8.2 in /usr/local/lib/python3.10/dist-packages (from pandas<3,>=1.3.0->streamlit) (2.8.2)\n",
            "Requirement already satisfied: pytz>=2020.1 in /usr/local/lib/python3.10/dist-packages (from pandas<3,>=1.3.0->streamlit) (2024.1)\n",
            "Requirement already satisfied: tzdata>=2022.1 in /usr/local/lib/python3.10/dist-packages (from pandas<3,>=1.3.0->streamlit) (2024.1)\n",
            "Requirement already satisfied: charset-normalizer<4,>=2 in /usr/local/lib/python3.10/dist-packages (from requests<3,>=2.27->streamlit) (3.3.2)\n",
            "Requirement already satisfied: idna<4,>=2.5 in /usr/local/lib/python3.10/dist-packages (from requests<3,>=2.27->streamlit) (3.7)\n",
            "Requirement already satisfied: urllib3<3,>=1.21.1 in /usr/local/lib/python3.10/dist-packages (from requests<3,>=2.27->streamlit) (2.0.7)\n",
            "Requirement already satisfied: certifi>=2017.4.17 in /usr/local/lib/python3.10/dist-packages (from requests<3,>=2.27->streamlit) (2024.7.4)\n",
            "Requirement already satisfied: markdown-it-py>=2.2.0 in /usr/local/lib/python3.10/dist-packages (from rich<14,>=10.14.0->streamlit) (3.0.0)\n",
            "Requirement already satisfied: pygments<3.0.0,>=2.13.0 in /usr/local/lib/python3.10/dist-packages (from rich<14,>=10.14.0->streamlit) (2.16.1)\n",
            "Requirement already satisfied: smmap<6,>=3.0.1 in /usr/local/lib/python3.10/dist-packages (from gitdb<5,>=4.0.1->gitpython!=3.1.19,<4,>=3.0.7->streamlit) (5.0.1)\n",
            "Requirement already satisfied: MarkupSafe>=2.0 in /usr/local/lib/python3.10/dist-packages (from jinja2->altair<6,>=4.0->streamlit) (2.1.5)\n",
            "Requirement already satisfied: attrs>=22.2.0 in /usr/local/lib/python3.10/dist-packages (from jsonschema>=3.0->altair<6,>=4.0->streamlit) (23.2.0)\n",
            "Requirement already satisfied: jsonschema-specifications>=2023.03.6 in /usr/local/lib/python3.10/dist-packages (from jsonschema>=3.0->altair<6,>=4.0->streamlit) (2023.12.1)\n",
            "Requirement already satisfied: referencing>=0.28.4 in /usr/local/lib/python3.10/dist-packages (from jsonschema>=3.0->altair<6,>=4.0->streamlit) (0.35.1)\n",
            "Requirement already satisfied: rpds-py>=0.7.1 in /usr/local/lib/python3.10/dist-packages (from jsonschema>=3.0->altair<6,>=4.0->streamlit) (0.19.0)\n",
            "Requirement already satisfied: mdurl~=0.1 in /usr/local/lib/python3.10/dist-packages (from markdown-it-py>=2.2.0->rich<14,>=10.14.0->streamlit) (0.1.2)\n",
            "Requirement already satisfied: six>=1.5 in /usr/local/lib/python3.10/dist-packages (from python-dateutil>=2.8.2->pandas<3,>=1.3.0->streamlit) (1.16.0)\n"
          ]
        }
      ]
    },
    {
      "cell_type": "code",
      "source": [
        "%%writefile app.py\n",
        "import pickle\n",
        "\n",
        "# Loading the trained model and LabelEncoder\n",
        "with open('clf_model.pkl', 'rb') as file:\n",
        "    clf = pickle.load(file)\n",
        "\n",
        "with open('label_encoder.pkl', 'rb') as file:\n",
        "    le = pickle.load(file)\n",
        "\n",
        "# Defining functions for making predictions\n",
        "def predict(features):\n",
        "\n",
        "    features = [features]\n",
        "    prediction = clf.predict(features)\n",
        "    return prediction[0]\n",
        "\n",
        "\n",
        "import streamlit as st\n",
        "# Streamlit app\n",
        "st.title(\"Malaria Hotspot Prediction by Country\")\n",
        "\n",
        "st.write(\"\"\"\n",
        "# Predict the likelihood of malaria hotspots based on various factors.\n",
        "Choose values from the features below:\n",
        "\"\"\")\n",
        "\n",
        "# Creating input fields for the features\n",
        "rural_population = st.number_input(\"Rural population (% of total population)\", min_value=0, max_value=100, value=50, step=1)\n",
        "rural_population_growth = st.number_input(\"Rural population growth (annual %)\", min_value=-10, max_value=10, value=0, step=1)\n",
        "urban_population = st.number_input(\"Urban population (% of total population)\", min_value=0, max_value=100, value=50, step=1)\n",
        "urban_population_growth = st.number_input(\"Urban population growth (annual %)\", min_value=-10, max_value=10, value=0, step=1)\n",
        "basic_drinking_water_services = st.number_input(\"People using at least basic drinking water services (% of population)\", min_value=0, max_value=100, value=80, step=1)\n",
        "basic_drinking_water_services_rural = st.number_input(\"People using at least basic drinking water services, rural (% of rural population)\", min_value=0, max_value=100, value=70, step=1)\n",
        "basic_drinking_water_services_urban = st.number_input(\"People using at least basic drinking water services, urban (% of urban population)\", min_value=0, max_value=100, value=90, step=1)\n",
        "basic_sanitation_services = st.number_input(\"People using at least basic sanitation services (% of population)\", min_value=0, max_value=100, value=60, step=1)\n",
        "basic_sanitation_services_rural = st.number_input(\"People using at least basic sanitation services, rural (% of rural population)\", min_value=0, max_value=100, value=50, step=1)\n",
        "basic_sanitation_services_urban = st.number_input(\"People using at least basic sanitation services, urban  (% of urban population)\", min_value=0, max_value=100, value=70, step=1)\n",
        "year = st.number_input(\"Year\", min_value=1900, max_value=2100, value=2023, step=1)\n",
        "malaria_incidence = st.number_input(\"Incidence of malaria (per 1,000 population at risk)\", min_value=0, max_value=1000, value=10, step=1)\n",
        "\n",
        "# Collecting all the features into a list\n",
        "features = [\n",
        "    rural_population,\n",
        "    rural_population_growth,\n",
        "    urban_population,\n",
        "    urban_population_growth,\n",
        "    basic_drinking_water_services,\n",
        "    basic_drinking_water_services_rural,\n",
        "    basic_drinking_water_services_urban,\n",
        "    basic_sanitation_services,\n",
        "    basic_sanitation_services_rural,\n",
        "    basic_sanitation_services_urban,\n",
        "    year,\n",
        "    malaria_incidence\n",
        "]\n",
        "\n",
        "# Making prediction when the button is pressed\n",
        "if st.button(\"Predict\"):\n",
        "    prediction = predict(features)\n",
        "    predicted_country = le.inverse_transform([prediction])[0]\n",
        "    st.write(f\"The predicted country is: {predicted_country}\")"
      ],
      "metadata": {
        "id": "nbLMGb-AazHV",
        "outputId": "b39625f6-a284-4fa1-9c1e-4fbb2b8b7e22",
        "colab": {
          "base_uri": "https://localhost:8080/"
        }
      },
      "execution_count": null,
      "outputs": [
        {
          "output_type": "stream",
          "name": "stdout",
          "text": [
            "Writing app.py\n"
          ]
        }
      ]
    }
  ]
}